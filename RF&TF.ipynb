{
 "cells": [
  {
   "attachments": {},
   "cell_type": "markdown",
   "metadata": {},
   "source": [
    "this is the random forest and tf idf"
   ]
  },
  {
   "cell_type": "code",
   "execution_count": 7,
   "metadata": {},
   "outputs": [
    {
     "name": "stdout",
     "output_type": "stream",
     "text": [
      "Accuracy: 0.7333333333333333\n",
      "Classification Report:\n",
      "              precision    recall  f1-score   support\n",
      "\n",
      "       anger       0.88      0.66      0.76       162\n",
      "        fear       0.84      0.72      0.78       151\n",
      "         joy       0.56      0.67      0.61       148\n",
      "        love       0.81      0.81      0.81       143\n",
      "     sadness       0.52      0.54      0.53       141\n",
      "    surprise       0.85      0.99      0.91       155\n",
      "\n",
      "    accuracy                           0.73       900\n",
      "   macro avg       0.74      0.73      0.73       900\n",
      "weighted avg       0.75      0.73      0.73       900\n",
      "\n",
      "Text: I am so excited about the upcoming vacation!\n",
      "Predicted Emotion: joy\n",
      "\n",
      "Text: I feel completely overwhelmed with work right now.\n",
      "Predicted Emotion: surprise\n",
      "\n",
      "Text: The kids are really making me angry today.\n",
      "Predicted Emotion: anger\n",
      "\n"
     ]
    }
   ],
   "source": [
    "import pandas as pd\n",
    "from sklearn.model_selection import train_test_split\n",
    "from sklearn.feature_extraction.text import TfidfVectorizer\n",
    "from sklearn.ensemble import RandomForestClassifier\n",
    "from sklearn.metrics import accuracy_score, classification_report\n",
    "\n",
    "# Load dataset\n",
    "df = pd.read_csv('sampled_data.csv', header=None, names=['text', 'label'], delimiter=',', quoting=3)\n",
    "\n",
    "# Split data into features and labels\n",
    "X = df['text']\n",
    "y = df['label']\n",
    "\n",
    "# Split data into training and testing sets\n",
    "X_train, X_test, y_train, y_test = train_test_split(X, y, test_size=0.3, random_state=42)\n",
    "\n",
    "# Convert text data to numerical data using TfidfVectorizer\n",
    "vectorizer = TfidfVectorizer()\n",
    "X_train_vect = vectorizer.fit_transform(X_train)\n",
    "X_test_vect = vectorizer.transform(X_test)\n",
    "\n",
    "# Train a Random Forest classifier\n",
    "model = RandomForestClassifier(n_estimators=100, random_state=42)\n",
    "model.fit(X_train_vect, y_train)\n",
    "\n",
    "# Predict on the test set\n",
    "y_pred = model.predict(X_test_vect)\n",
    "\n",
    "# Evaluate the model\n",
    "print(f\"Accuracy: {accuracy_score(y_test, y_pred)}\")\n",
    "print(\"Classification Report:\")\n",
    "print(classification_report(y_test, y_pred))\n",
    "\n",
    "# Test the model with new examples\n",
    "new_examples = [\n",
    "    \"I am so excited about the upcoming vacation!\",\n",
    "    \"I feel completely overwhelmed with work right now.\",\n",
    "    \"The kids are really making me angry today.\"\n",
    "]\n",
    "\n",
    "# Convert new examples to numerical data using the same vectorizer\n",
    "new_examples_vect = vectorizer.transform(new_examples)\n",
    "\n",
    "# Predict emotions for the new examples\n",
    "predictions = model.predict(new_examples_vect)\n",
    "\n",
    "# Output predictions\n",
    "for example, prediction in zip(new_examples, predictions):\n",
    "    print(f\"Text: {example}\")\n",
    "    print(f\"Predicted Emotion: {prediction}\")\n",
    "    print()\n"
   ]
  }
 ],
 "metadata": {
  "kernelspec": {
   "display_name": "Python 3",
   "language": "python",
   "name": "python3"
  },
  "language_info": {
   "codemirror_mode": {
    "name": "ipython",
    "version": 3
   },
   "file_extension": ".py",
   "mimetype": "text/x-python",
   "name": "python",
   "nbconvert_exporter": "python",
   "pygments_lexer": "ipython3",
   "version": "3.11.0"
  },
  "orig_nbformat": 4,
  "vscode": {
   "interpreter": {
    "hash": "5c7b89af1651d0b8571dde13640ecdccf7d5a6204171d6ab33e7c296e100e08a"
   }
  }
 },
 "nbformat": 4,
 "nbformat_minor": 2
}
