{
 "cells": [
  {
   "cell_type": "code",
   "execution_count": 3,
   "metadata": {},
   "outputs": [
    {
     "name": "stdout",
     "output_type": "stream",
     "text": [
      "Accuracy: 0.8533333333333334\n",
      "Classification Report:\n",
      "              precision    recall  f1-score   support\n",
      "\n",
      "       anger       0.98      0.83      0.90       162\n",
      "        fear       0.95      0.83      0.89       151\n",
      "         joy       0.64      0.91      0.75       148\n",
      "        love       0.89      0.95      0.92       143\n",
      "     sadness       0.94      0.60      0.73       141\n",
      "    surprise       0.86      0.99      0.92       155\n",
      "\n",
      "    accuracy                           0.85       900\n",
      "   macro avg       0.88      0.85      0.85       900\n",
      "weighted avg       0.88      0.85      0.85       900\n",
      "\n"
     ]
    }
   ],
   "source": [
    "from nltk.corpus import stopwords\n",
    "from nltk import pos_tag, word_tokenize\n",
    "import string\n",
    "import numpy as np\n",
    "import pandas as pd\n",
    "from scipy.sparse import hstack\n",
    "from sklearn.model_selection import train_test_split, GridSearchCV\n",
    "from sklearn.feature_extraction.text import CountVectorizer\n",
    "from sklearn.ensemble import GradientBoostingClassifier\n",
    "from sklearn.metrics import accuracy_score, classification_report\n",
    "import joblib\n",
    "\n",
    "# Load stopwords\n",
    "stop_words = set(stopwords.words('english'))\n",
    "\n",
    "# Function to calculate additional features\n",
    "def calculate_text_features(text):\n",
    "    words = text.split()\n",
    "    # Punctuation Count\n",
    "    punctuation_count = sum(1 for char in text if char in string.punctuation)\n",
    "    # Digit Count\n",
    "    digit_count = sum(1 for char in text if char.isdigit())\n",
    "    # POS Tagging\n",
    "    pos_tags = pos_tag(word_tokenize(text))\n",
    "    noun_count = sum(1 for word, tag in pos_tags if tag.startswith('NN'))\n",
    "    # Exclamation Count\n",
    "    exclamation_count = text.count('!')\n",
    "    # Question Count\n",
    "    question_count = text.count('?')\n",
    "    # Title Word Count\n",
    "    title_word_count = sum(1 for word in words if word.istitle())\n",
    "    \n",
    "    return (punctuation_count, digit_count, noun_count,\n",
    "            exclamation_count, question_count, title_word_count)\n",
    "\n",
    "# Load your dataset\n",
    "# Assuming the dataset is in a CSV file with columns 'text' and 'label'\n",
    "df = pd.read_csv('sampled_data.csv', header=None, names=['text', 'label'], delimiter=',', quoting=3)\n",
    "\n",
    "# Split data into features and labels\n",
    "X = df['text']\n",
    "y = df['label']\n",
    "\n",
    "# Split data into training and testing sets\n",
    "X_train, X_test, y_train, y_test = train_test_split(X, y, test_size=0.3, random_state=42)\n",
    "\n",
    "# Convert text data to numerical data using CountVectorizer\n",
    "vectorizer = CountVectorizer(max_features=5000)\n",
    "X_train_vect = vectorizer.fit_transform(X_train)\n",
    "X_test_vect = vectorizer.transform(X_test)\n",
    "\n",
    "# Calculate additional features for training data\n",
    "X_train_features = np.array([calculate_text_features(text) for text in X_train])\n",
    "# Calculate additional features for testing data\n",
    "X_test_features = np.array([calculate_text_features(text) for text in X_test])\n",
    "\n",
    "# Combine CountVectorizer output with additional features\n",
    "X_train_combined = hstack([X_train_vect, X_train_features])\n",
    "X_test_combined = hstack([X_test_vect, X_test_features])\n",
    "\n",
    "# Train the Gradient Boosting Classifier\n",
    "gbc_model = GradientBoostingClassifier(random_state=42)\n",
    "gbc_model.fit(X_train_combined, y_train)\n",
    "\n",
    "# Save the model to a .pkl file\n",
    "joblib.dump((vectorizer,gbc_model), 'models/GBC&CV.pkl')\n",
    "\n",
    "# Make predictions\n",
    "y_pred = gbc_model.predict(X_test_combined)\n",
    "\n",
    "# Evaluate the model\n",
    "accuracy = accuracy_score(y_test, y_pred)\n",
    "print(f'Accuracy: {accuracy}')\n",
    "print('Classification Report:')\n",
    "print(classification_report(y_test, y_pred))\n"
   ]
  }
 ],
 "metadata": {
  "kernelspec": {
   "display_name": "Python 3",
   "language": "python",
   "name": "python3"
  },
  "language_info": {
   "codemirror_mode": {
    "name": "ipython",
    "version": 3
   },
   "file_extension": ".py",
   "mimetype": "text/x-python",
   "name": "python",
   "nbconvert_exporter": "python",
   "pygments_lexer": "ipython3",
   "version": "3.11.2"
  },
  "orig_nbformat": 4,
  "vscode": {
   "interpreter": {
    "hash": "5c7b89af1651d0b8571dde13640ecdccf7d5a6204171d6ab33e7c296e100e08a"
   }
  }
 },
 "nbformat": 4,
 "nbformat_minor": 2
}
