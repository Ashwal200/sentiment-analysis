{
 "cells": [
  {
   "cell_type": "code",
   "execution_count": 8,
   "metadata": {},
   "outputs": [
    {
     "name": "stderr",
     "output_type": "stream",
     "text": [
      "2024-08-02 14:55:28,363 - INFO - Data loaded successfully. Shape: (3000, 2)\n",
      "2024-08-02 14:55:28,369 - INFO - Data split into training and test sets. Training set size: 2400, Test set size: 600\n"
     ]
    },
    {
     "name": "stdout",
     "output_type": "stream",
     "text": [
      "Fitting 3 folds for each of 8 candidates, totalling 24 fits\n"
     ]
    },
    {
     "name": "stderr",
     "output_type": "stream",
     "text": [
      "2024-08-02 14:55:53,620 - INFO - Best parameters: {'classifier__learning_rate': 0.1, 'classifier__max_depth': 5, 'classifier__n_estimators': 200}\n",
      "2024-08-02 14:55:53,638 - INFO - Accuracy: 0.8916666666666667\n",
      "2024-08-02 14:55:53,639 - INFO - Classification Report:\n",
      "2024-08-02 14:55:53,647 - INFO -               precision    recall  f1-score   support\n",
      "\n",
      "       anger       0.95      0.89      0.92       118\n",
      "        fear       0.94      0.83      0.88        99\n",
      "         joy       0.79      0.91      0.84        96\n",
      "        love       0.90      0.96      0.93       101\n",
      "     sadness       0.92      0.77      0.84        91\n",
      "    surprise       0.86      0.99      0.92        95\n",
      "\n",
      "    accuracy                           0.89       600\n",
      "   macro avg       0.89      0.89      0.89       600\n",
      "weighted avg       0.90      0.89      0.89       600\n",
      "\n",
      "2024-08-02 14:55:53,703 - INFO - Model and vectorizer saved to ../trained_models/GBC_CV.pkl\n"
     ]
    }
   ],
   "source": [
    "import numpy as np\n",
    "import pandas as pd\n",
    "from sklearn.model_selection import train_test_split, GridSearchCV\n",
    "from sklearn.feature_extraction.text import TfidfVectorizer\n",
    "from sklearn.ensemble import GradientBoostingClassifier\n",
    "from sklearn.metrics import accuracy_score, classification_report\n",
    "from sklearn.pipeline import Pipeline\n",
    "import joblib\n",
    "import logging\n",
    "\n",
    "from features import calculate_text_features_gbc_cv as calculate_text_features\n",
    "from shared_functions import update_accuracy_in_config\n",
    "\n",
    "# Set up logging\n",
    "logging.basicConfig(level=logging.INFO, format='%(asctime)s - %(levelname)s - %(message)s')\n",
    "\n",
    "def load_data(file_path):\n",
    "    \"\"\"Load data from CSV file.\"\"\"\n",
    "    try:\n",
    "        df = pd.read_csv(file_path, header=None, names=['text', 'label'], delimiter=',', quoting=3)\n",
    "        logging.info(f\"Data loaded successfully. Shape: {df.shape}\")\n",
    "        return df\n",
    "    except Exception as e:\n",
    "        logging.error(f\"Error loading data: {str(e)}\")\n",
    "        raise\n",
    "\n",
    "def preprocess_data(df):\n",
    "    \"\"\"Preprocess the data.\"\"\"\n",
    "    X = df['text']\n",
    "    y = df['label']\n",
    "    X_train, X_test, y_train, y_test = train_test_split(X, y, test_size=0.2, random_state=42)\n",
    "    logging.info(f\"Data split into training and test sets. Training set size: {len(X_train)}, Test set size: {len(X_test)}\")\n",
    "    return X_train, X_test, y_train, y_test\n",
    "\n",
    "def create_model():\n",
    "    \"\"\"Create a pipeline with TfidfVectorizer and GradientBoostingClassifier.\"\"\"\n",
    "    pipeline = Pipeline([\n",
    "        ('tfidf', TfidfVectorizer(max_features=5000, stop_words='english')),\n",
    "        ('classifier', GradientBoostingClassifier(random_state=42))\n",
    "    ])\n",
    "\n",
    "    return pipeline\n",
    "\n",
    "def train_model(model, X_train, y_train):\n",
    "    \"\"\"Train the model with GridSearchCV.\"\"\"\n",
    "    param_grid = {\n",
    "        'classifier__n_estimators': [100, 200],\n",
    "        'classifier__learning_rate': [0.01, 0.1],\n",
    "        'classifier__max_depth': [3, 5]\n",
    "    }\n",
    "\n",
    "    grid_search = GridSearchCV(model, param_grid, cv=3, n_jobs=-1, verbose=1)\n",
    "    grid_search.fit(X_train, y_train)\n",
    "    \n",
    "    logging.info(f\"Best parameters: {grid_search.best_params_}\")\n",
    "    return grid_search.best_estimator_\n",
    "\n",
    "def evaluate_model(model, X_test, y_test):\n",
    "    \"\"\"Evaluate the model and print results.\"\"\"\n",
    "    y_pred = model.predict(X_test)\n",
    "    accuracy = accuracy_score(y_test, y_pred)\n",
    "    logging.info(f'Accuracy: {accuracy}')\n",
    "    logging.info('Classification Report:')\n",
    "    logging.info(classification_report(y_test, y_pred))\n",
    "    return accuracy\n",
    "\n",
    "def save_model(vectorizer, model, file_path):\n",
    "    \"\"\"Save the vectorizer and trained model.\"\"\"\n",
    "    joblib.dump((vectorizer, model), file_path)\n",
    "    logging.info(f\"Model and vectorizer saved to {file_path}\")\n",
    "\n",
    "# Load data\n",
    "df = load_data('../sampled_data.csv')\n",
    "\n",
    "# Preprocess data\n",
    "X_train, X_test, y_train, y_test = preprocess_data(df)\n",
    "\n",
    "# Create and train model\n",
    "model = create_model()\n",
    "trained_model = train_model(model, X_train, y_train)\n",
    "\n",
    "# Evaluate model\n",
    "accuracy = evaluate_model(trained_model, X_test, y_test)\n",
    "\n",
    "# Save model and vectorizer\n",
    "vectorizer = TfidfVectorizer(max_features=5000, stop_words='english')\n",
    "save_model(vectorizer, trained_model, '../trained_models/GBC_CV.pkl')\n",
    "\n",
    "# Update accuracy in config\n",
    "update_accuracy_in_config(accuracy, 'count_gradient_boosting')\n"
   ]
  }
 ],
 "metadata": {
  "kernelspec": {
   "display_name": "Python 3",
   "language": "python",
   "name": "python3"
  },
  "language_info": {
   "codemirror_mode": {
    "name": "ipython",
    "version": 3
   },
   "file_extension": ".py",
   "mimetype": "text/x-python",
   "name": "python",
   "nbconvert_exporter": "python",
   "pygments_lexer": "ipython3",
   "version": "3.11.2"
  },
  "orig_nbformat": 4,
  "vscode": {
   "interpreter": {
    "hash": "5c7b89af1651d0b8571dde13640ecdccf7d5a6204171d6ab33e7c296e100e08a"
   }
  }
 },
 "nbformat": 4,
 "nbformat_minor": 2
}
