{
 "cells": [
  {
   "cell_type": "code",
   "execution_count": 1,
   "metadata": {},
   "outputs": [
    {
     "name": "stdout",
     "output_type": "stream",
     "text": [
      "Accuracy: 0.66\n",
      "Classification Report:\n",
      "              precision    recall  f1-score   support\n",
      "\n",
      "       anger       0.82      0.57      0.67       162\n",
      "        fear       0.63      0.63      0.63       151\n",
      "         joy       0.58      0.61      0.60       148\n",
      "        love       0.65      0.74      0.69       143\n",
      "     sadness       0.64      0.62      0.63       141\n",
      "    surprise       0.68      0.79      0.73       155\n",
      "\n",
      "    accuracy                           0.66       900\n",
      "   macro avg       0.67      0.66      0.66       900\n",
      "weighted avg       0.67      0.66      0.66       900\n",
      "\n",
      "Sentence: \"I love programming and data science.\"\n",
      "Predicted Label: love\n",
      "\n",
      "Sentence: \"The weather is terrible today.\"\n",
      "Predicted Label: sadness\n",
      "\n",
      "Sentence: \"Let's have a meeting to discuss the project.\"\n",
      "Predicted Label: fear\n",
      "\n",
      "Model saved to text_classification_model.pkl\n"
     ]
    }
   ],
   "source": [
    "import pandas as pd\n",
    "import joblib\n",
    "from sklearn.model_selection import train_test_split\n",
    "from sklearn.feature_extraction.text import CountVectorizer\n",
    "from sklearn.naive_bayes import MultinomialNB\n",
    "from sklearn.metrics import accuracy_score, classification_report\n",
    "from shared_functions import update_accuracy_in_config\n",
    "\n",
    "# Load your dataset\n",
    "df = pd.read_csv('../sampled_data.csv', header=None, names=['text', 'label'], delimiter=',', quoting=3)\n",
    "\n",
    "# Split data into features and labels\n",
    "X = df['text']\n",
    "y = df['label']\n",
    "\n",
    "# Split data into training and testing sets\n",
    "X_train, X_test, y_train, y_test = train_test_split(X, y, test_size=0.3, random_state=42)\n",
    "\n",
    "# Convert text data to numerical data using CountVectorizer\n",
    "vectorizer = CountVectorizer(max_features=5000)\n",
    "X_train_vect = vectorizer.fit_transform(X_train)\n",
    "X_test_vect = vectorizer.transform(X_test)\n",
    "\n",
    "# Train a Naive Bayes model\n",
    "model = MultinomialNB()\n",
    "model.fit(X_train_vect, y_train)\n",
    "\n",
    "# Evaluate the model\n",
    "y_pred = model.predict(X_test_vect)\n",
    "accuracy = accuracy_score(y_test, y_pred)\n",
    "print(f'Accuracy: {accuracy}')\n",
    "print('Classification Report:')\n",
    "print(classification_report(y_test, y_pred))\n",
    "\n",
    "# Predicting new sentences\n",
    "sentences = [\n",
    "    \"I love programming and data science.\",\n",
    "    \"The weather is terrible today.\",\n",
    "    \"Let's have a meeting to discuss the project.\"\n",
    "]\n",
    "\n",
    "# Convert new sentences to numerical data\n",
    "sentences_vect = vectorizer.transform(sentences)\n",
    "predictions = model.predict(sentences_vect)\n",
    "\n",
    "for sentence, prediction in zip(sentences, predictions):\n",
    "    print(f'Sentence: \"{sentence}\"')\n",
    "    print(f'Predicted Label: {prediction}')\n",
    "    print()\n",
    "\n",
    "joblib.dump((vectorizer, model), '../trained_models/NB_CV.pkl')\n",
    "\n",
    "update_accuracy_in_config(accuracy, 'count_naivebase')\n",
    "\n",
    "print(\"Model saved to text_classification_model.pkl\")\n"
   ]
  }
 ],
 "metadata": {
  "kernelspec": {
   "display_name": "Python 3",
   "language": "python",
   "name": "python3"
  },
  "language_info": {
   "codemirror_mode": {
    "name": "ipython",
    "version": 3
   },
   "file_extension": ".py",
   "mimetype": "text/x-python",
   "name": "python",
   "nbconvert_exporter": "python",
   "pygments_lexer": "ipython3",
   "version": "3.11.2"
  },
  "orig_nbformat": 4,
  "vscode": {
   "interpreter": {
    "hash": "5c7b89af1651d0b8571dde13640ecdccf7d5a6204171d6ab33e7c296e100e08a"
   }
  }
 },
 "nbformat": 4,
 "nbformat_minor": 2
}
