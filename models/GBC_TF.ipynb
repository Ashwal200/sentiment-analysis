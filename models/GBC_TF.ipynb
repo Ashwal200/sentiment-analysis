{
 "cells": [
  {
   "cell_type": "code",
   "execution_count": 1,
   "metadata": {},
   "outputs": [
    {
     "name": "stderr",
     "output_type": "stream",
     "text": [
      "2024-08-04 13:54:20,449 - INFO - Data loaded successfully. Shape: (3000, 2)\n",
      "2024-08-04 13:54:20,452 - INFO - Data split into training and test sets. Training set size: 2400, Test set size: 600\n"
     ]
    },
    {
     "name": "stdout",
     "output_type": "stream",
     "text": [
      "Fitting 3 folds for each of 8 candidates, totalling 24 fits\n"
     ]
    },
    {
     "name": "stderr",
     "output_type": "stream",
     "text": [
      "2024-08-04 13:55:06,365 - INFO - Best parameters: {'learning_rate': 0.1, 'max_depth': 3, 'n_estimators': 200}\n",
      "2024-08-04 13:55:06,377 - INFO - Accuracy: 0.8883333333333333\n",
      "2024-08-04 13:55:06,377 - INFO - Classification Report:\n",
      "2024-08-04 13:55:06,386 - INFO -               precision    recall  f1-score   support\n",
      "\n",
      "       anger       0.95      0.88      0.92       118\n",
      "        fear       0.95      0.83      0.89        99\n",
      "         joy       0.77      0.90      0.83        96\n",
      "        love       0.91      0.96      0.93       101\n",
      "     sadness       0.91      0.76      0.83        91\n",
      "    surprise       0.86      1.00      0.93        95\n",
      "\n",
      "    accuracy                           0.89       600\n",
      "   macro avg       0.89      0.89      0.89       600\n",
      "weighted avg       0.89      0.89      0.89       600\n",
      "\n",
      "2024-08-04 13:55:06,439 - INFO - Vectorizer and model saved to ../trained_models/Tfidf_vectorizer_model.pkl\n"
     ]
    }
   ],
   "source": [
    "import numpy as np\n",
    "import pandas as pd\n",
    "from sklearn.model_selection import train_test_split, GridSearchCV\n",
    "from sklearn.feature_extraction.text import TfidfVectorizer\n",
    "from sklearn.ensemble import GradientBoostingClassifier\n",
    "from sklearn.metrics import accuracy_score, classification_report\n",
    "import joblib\n",
    "import logging\n",
    "\n",
    "from shared_functions import update_accuracy_in_config\n",
    "\n",
    "# Set up logging\n",
    "logging.basicConfig(level=logging.INFO, format='%(asctime)s - %(levelname)s - %(message)s')\n",
    "\n",
    "def load_data(file_path):\n",
    "    \"\"\"Load data from CSV file.\"\"\"\n",
    "    try:\n",
    "        df = pd.read_csv(file_path, header=None, names=['text', 'label'], delimiter=',', quoting=3)\n",
    "        logging.info(f\"Data loaded successfully. Shape: {df.shape}\")\n",
    "        return df\n",
    "    except Exception as e:\n",
    "        logging.error(f\"Error loading data: {str(e)}\")\n",
    "        raise\n",
    "\n",
    "def preprocess_data(df):\n",
    "    \"\"\"Preprocess the data.\"\"\"\n",
    "    X = df['text']\n",
    "    y = df['label']\n",
    "    X_train, X_test, y_train, y_test = train_test_split(X, y, test_size=0.2, random_state=42)\n",
    "    logging.info(f\"Data split into training and test sets. Training set size: {len(X_train)}, Test set size: {len(X_test)}\")\n",
    "    return X_train, X_test, y_train, y_test\n",
    "\n",
    "def create_tfidf_vectorizer():\n",
    "    \"\"\"Create a TfidfVectorizer.\"\"\"\n",
    "    vectorizer = TfidfVectorizer(max_features=5000, stop_words='english')\n",
    "    return vectorizer\n",
    "\n",
    "def create_model():\n",
    "    \"\"\"Create a GradientBoostingClassifier.\"\"\"\n",
    "    model = GradientBoostingClassifier(random_state=42)\n",
    "    return model\n",
    "\n",
    "def train_model(vectorizer, model, X_train, y_train):\n",
    "    \"\"\"Train the model with GridSearchCV.\"\"\"\n",
    "    X_train_tfidf = vectorizer.fit_transform(X_train)\n",
    "    \n",
    "    param_grid = {\n",
    "        'n_estimators': [100, 200],\n",
    "        'learning_rate': [0.01, 0.1],\n",
    "        'max_depth': [3, 5]\n",
    "    }\n",
    "\n",
    "    grid_search = GridSearchCV(model, param_grid, cv=3, n_jobs=-1, verbose=1)\n",
    "    grid_search.fit(X_train_tfidf, y_train)\n",
    "    \n",
    "    logging.info(f\"Best parameters: {grid_search.best_params_}\")\n",
    "    return vectorizer, grid_search.best_estimator_\n",
    "\n",
    "def evaluate_model(vectorizer, model, X_test, y_test):\n",
    "    \"\"\"Evaluate the model and print results.\"\"\"\n",
    "    X_test_tfidf = vectorizer.transform(X_test)\n",
    "    y_pred = model.predict(X_test_tfidf)\n",
    "    accuracy = accuracy_score(y_test, y_pred)\n",
    "    logging.info(f'Accuracy: {accuracy}')\n",
    "    logging.info('Classification Report:')\n",
    "    logging.info(classification_report(y_test, y_pred))\n",
    "    return accuracy\n",
    "\n",
    "def save_model(vectorizer, model, file_path):\n",
    "    \"\"\"Save the vectorizer and model together in a single file.\"\"\"\n",
    "    joblib.dump((vectorizer, model), file_path)\n",
    "    logging.info(f\"Vectorizer and model saved to {file_path}\")\n",
    "\n",
    "# Load data\n",
    "df = load_data('../sampled_data.csv')\n",
    "\n",
    "# Preprocess data\n",
    "X_train, X_test, y_train, y_test = preprocess_data(df)\n",
    "\n",
    "# Create and train model\n",
    "vectorizer = create_tfidf_vectorizer()\n",
    "model = create_model()\n",
    "vectorizer, trained_model = train_model(vectorizer, model, X_train, y_train)\n",
    "\n",
    "# Evaluate model\n",
    "accuracy = evaluate_model(vectorizer, trained_model, X_test, y_test)\n",
    "\n",
    "# Save model\n",
    "save_model(vectorizer, trained_model, '../trained_models/GBC_TF.pkl')\n",
    "\n",
    "# Update accuracy in config\n",
    "update_accuracy_in_config(accuracy, 'tfidf_gradient_boosting')\n"
   ]
  },
  {
   "cell_type": "code",
   "execution_count": 2,
   "metadata": {},
   "outputs": [
    {
     "ename": "NameError",
     "evalue": "name 'y_pred' is not defined",
     "output_type": "error",
     "traceback": [
      "\u001b[0;31m---------------------------------------------------------------------------\u001b[0m",
      "\u001b[0;31mNameError\u001b[0m                                 Traceback (most recent call last)",
      "Cell \u001b[0;32mIn[2], line 14\u001b[0m\n\u001b[1;32m     12\u001b[0m \u001b[39m# Example usage\u001b[39;00m\n\u001b[1;32m     13\u001b[0m labels \u001b[39m=\u001b[39m df[\u001b[39m'\u001b[39m\u001b[39mlabel\u001b[39m\u001b[39m'\u001b[39m]\u001b[39m.\u001b[39munique()  \u001b[39m# Extract unique labels from the DataFrame\u001b[39;00m\n\u001b[0;32m---> 14\u001b[0m plot_confusion_matrix(y_pred, y_test, labels)\n",
      "\u001b[0;31mNameError\u001b[0m: name 'y_pred' is not defined"
     ]
    }
   ],
   "source": [
    "import matplotlib.pyplot as plt\n",
    "from sklearn.metrics import confusion_matrix, ConfusionMatrixDisplay\n",
    "\n",
    "def plot_confusion_matrix(y_predicted, y_true, labels):\n",
    "    cm = confusion_matrix(y_true, y_predicted, normalize='true')\n",
    "    fig, ax = plt.subplots(figsize=(6, 6))\n",
    "    disp = ConfusionMatrixDisplay(confusion_matrix=cm, display_labels=labels)\n",
    "    disp.plot(cmap='Blues', values_format='.2f', ax=ax, colorbar=False)\n",
    "    plt.title('Normalized Confusion Matrix')\n",
    "    plt.show()\n",
    "\n",
    "# Example usage\n",
    "labels = df['label'].unique()  # Extract unique labels from the DataFrame\n",
    "plot_confusion_matrix(y_pred, y_test, labels)\n"
   ]
  },
  {
   "cell_type": "code",
   "execution_count": null,
   "metadata": {},
   "outputs": [
    {
     "name": "stderr",
     "output_type": "stream",
     "text": [
      "[NbConvertApp] Converting notebook GBC_TF.ipynb to script\n",
      "[NbConvertApp] Writing 6922 bytes to ..\\python_models\\GBC_TF.py\n"
     ]
    }
   ],
   "source": [
    "# import os\n",
    "\n",
    "# # Define the directory and file names\n",
    "# output_dir = '../python_models'\n",
    "# notebook_filename = 'GBC_TF.ipynb'\n",
    "# python_filename = notebook_filename.replace('.ipynb', '.py')\n",
    "\n",
    "# # Ensure the output directory exists\n",
    "# os.makedirs(output_dir, exist_ok=True)\n",
    "\n",
    "# # Convert the notebook to a Python script\n",
    "# !jupyter nbconvert --to script --output-dir {output_dir} {notebook_filename}"
   ]
  }
 ],
 "metadata": {
  "kernelspec": {
   "display_name": "Python 3",
   "language": "python",
   "name": "python3"
  },
  "language_info": {
   "codemirror_mode": {
    "name": "ipython",
    "version": 3
   },
   "file_extension": ".py",
   "mimetype": "text/x-python",
   "name": "python",
   "nbconvert_exporter": "python",
   "pygments_lexer": "ipython3",
   "version": "3.11.2"
  },
  "vscode": {
   "interpreter": {
    "hash": "5c7b89af1651d0b8571dde13640ecdccf7d5a6204171d6ab33e7c296e100e08a"
   }
  }
 },
 "nbformat": 4,
 "nbformat_minor": 2
}
