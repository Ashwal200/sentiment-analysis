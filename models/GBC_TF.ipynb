{
 "cells": [
  {
   "cell_type": "code",
   "execution_count": 14,
   "metadata": {},
   "outputs": [],
   "source": [
    "import numpy as np\n",
    "import pandas as pd\n",
    "from sklearn.model_selection import train_test_split, GridSearchCV\n",
    "from sklearn.feature_extraction.text import TfidfVectorizer\n",
    "from sklearn.ensemble import GradientBoostingClassifier\n",
    "from sklearn.metrics import accuracy_score, classification_report ,confusion_matrix, ConfusionMatrixDisplay\n",
    "import joblib\n",
    "import logging\n",
    "import matplotlib.pyplot as plt\n",
    "from shared_functions import update_accuracy_in_config\n",
    "\n",
    "# Set up logging\n",
    "logging.basicConfig(level=logging.INFO, format='%(asctime)s - %(levelname)s - %(message)s')\n"
   ]
  },
  {
   "cell_type": "code",
   "execution_count": 15,
   "metadata": {},
   "outputs": [],
   "source": [
    "def load_data(file_path):\n",
    "    \"\"\"\n",
    "    Load data from a CSV file.\n",
    "\n",
    "    Args:\n",
    "        file_path (str): Path to the CSV file containing the data.\n",
    "\n",
    "    Returns:\n",
    "        pd.DataFrame: DataFrame containing the loaded data with columns 'text' and 'label'.\n",
    "\n",
    "    Raises:\n",
    "        Exception: If there is an error loading the data, an exception is raised.\n",
    "        \n",
    "    \"\"\"\n",
    "    try:\n",
    "        df = pd.read_csv(file_path, header=None, names=['text', 'label'], delimiter=',', quoting=3)\n",
    "        logging.info(f\"Data loaded successfully. Shape: {df.shape}\")\n",
    "        return df\n",
    "    except Exception as e:\n",
    "        logging.error(f\"Error loading data: {str(e)}\")\n",
    "        raise\n",
    "\n",
    "def preprocess_data(df):\n",
    "    \"\"\"\n",
    "    Preprocess the data by splitting it into training and test sets.\n",
    "\n",
    "    Args:\n",
    "        df (pd.DataFrame): DataFrame containing the data with columns 'text' and 'label'.\n",
    "\n",
    "    Returns:\n",
    "        tuple: A tuple containing:\n",
    "            - X_train (pd.Series): Training features (text data).\n",
    "            - X_test (pd.Series): Test features (text data).\n",
    "            - y_train (pd.Series): Training labels.\n",
    "            - y_test (pd.Series): Test labels.\n",
    "    \"\"\"\n",
    "    X = df['text']\n",
    "    y = df['label']\n",
    "    X_train, X_test, y_train, y_test = train_test_split(X, y, test_size=0.2, random_state=42)\n",
    "    logging.info(f\"Data split into training and test sets. Training set size: {len(X_train)}, Test set size: {len(X_test)}\")\n",
    "    return X_train, X_test, y_train, y_test"
   ]
  },
  {
   "cell_type": "code",
   "execution_count": 16,
   "metadata": {},
   "outputs": [],
   "source": [
    "\n",
    "def create_tfidf_vectorizer():\n",
    "    \"\"\"\n",
    "    Create a TfidfVectorizer for transforming text data into TF-IDF features.\n",
    "\n",
    "    Returns:\n",
    "        TfidfVectorizer: Configured TfidfVectorizer instance with a maximum of 5000 features and English stop words removed.\n",
    "    \"\"\"\n",
    "    vectorizer = TfidfVectorizer(max_features=5000, stop_words='english')\n",
    "    return vectorizer\n",
    "\n",
    "def create_model():\n",
    "    \"\"\"\n",
    "    Create a GradientBoostingClassifier for classification tasks.\n",
    "\n",
    "    Returns:\n",
    "        GradientBoostingClassifier: Configured GradientBoostingClassifier instance with a fixed random state for reproducibility.\n",
    "    \"\"\"\n",
    "    model = GradientBoostingClassifier(random_state=42)\n",
    "    return model"
   ]
  },
  {
   "cell_type": "code",
   "execution_count": 17,
   "metadata": {},
   "outputs": [],
   "source": [
    "def train_model(vectorizer, model, X_train, y_train):\n",
    "    \"\"\"\n",
    "    Train the model using GridSearchCV to find the best hyperparameters.\n",
    "\n",
    "    Args:\n",
    "        vectorizer (TfidfVectorizer): The vectorizer to transform the text data.\n",
    "        model (GradientBoostingClassifier): The model to be trained.\n",
    "        X_train (pd.Series): Training data features.\n",
    "        y_train (pd.Series): Training data labels.\n",
    "\n",
    "    Returns:\n",
    "        tuple: A tuple containing the fitted vectorizer and the best estimator from GridSearchCV.\n",
    "\n",
    "    Example:\n",
    "        >>> vectorizer, trained_model = train_model(vectorizer, model, X_train, y_train)\n",
    "    \"\"\"\n",
    "    X_train_tfidf = vectorizer.fit_transform(X_train)\n",
    "    \n",
    "    param_grid = {\n",
    "        'n_estimators': [100, 200],\n",
    "        'learning_rate': [0.01, 0.1],\n",
    "        'max_depth': [3, 5]\n",
    "    }\n",
    "\n",
    "    grid_search = GridSearchCV(model, param_grid, cv=3, n_jobs=-1, verbose=1)\n",
    "    grid_search.fit(X_train_tfidf, y_train)\n",
    "    \n",
    "    logging.info(f\"Best parameters: {grid_search.best_params_}\")\n",
    "    return vectorizer, grid_search.best_estimator_"
   ]
  },
  {
   "cell_type": "code",
   "execution_count": 18,
   "metadata": {},
   "outputs": [],
   "source": [
    "\n",
    "\n",
    "def evaluate_model(vectorizer, model, X_test, y_test):\n",
    "    \"\"\"\n",
    "    Evaluate the trained model on the test data and print the accuracy and classification report.\n",
    "\n",
    "    Args:\n",
    "        vectorizer (TfidfVectorizer): The vectorizer to transform the test data.\n",
    "        model (GradientBoostingClassifier): The trained model to evaluate.\n",
    "        X_test (pd.Series): Test data features.\n",
    "        y_test (pd.Series): Test data labels.\n",
    "\n",
    "    Returns:\n",
    "        tuple: A tuple containing the accuracy score and predictions for the test data.\n",
    "\n",
    "    Example:\n",
    "        >>> accuracy, y_pred = evaluate_model(vectorizer, trained_model, X_test, y_test)\n",
    "    \"\"\"\n",
    "    X_test_tfidf = vectorizer.transform(X_test)\n",
    "    y_pred = model.predict(X_test_tfidf)\n",
    "    accuracy = accuracy_score(y_test, y_pred)\n",
    "    logging.info(f'Accuracy: {accuracy}')\n",
    "    logging.info('Classification Report:')\n",
    "    logging.info(classification_report(y_test, y_pred))\n",
    "    return accuracy, y_pred\n",
    "\n",
    "def save_model(vectorizer, model, file_path):\n",
    "    \"\"\"\n",
    "    Save the vectorizer and the trained model to a file.\n",
    "\n",
    "    Args:\n",
    "        vectorizer (TfidfVectorizer): The vectorizer to save.\n",
    "        model (GradientBoostingClassifier): The model to save.\n",
    "        file_path (str): The path to the file where the vectorizer and model will be saved.\n",
    "\n",
    "    Example:\n",
    "        >>> save_model(vectorizer, trained_model, 'model_and_vectorizer.pkl')\n",
    "    \"\"\"\n",
    "    joblib.dump((vectorizer, model), file_path)\n",
    "    logging.info(f\"Vectorizer and model saved to {file_path}\")"
   ]
  },
  {
   "cell_type": "code",
   "execution_count": 19,
   "metadata": {},
   "outputs": [
    {
     "name": "stderr",
     "output_type": "stream",
     "text": [
      "2024-08-09 15:27:33,102 - INFO - Data loaded successfully. Shape: (3000, 2)\n",
      "2024-08-09 15:27:33,103 - INFO - Data split into training and test sets. Training set size: 2400, Test set size: 600\n"
     ]
    },
    {
     "name": "stdout",
     "output_type": "stream",
     "text": [
      "Fitting 3 folds for each of 8 candidates, totalling 24 fits\n"
     ]
    },
    {
     "name": "stderr",
     "output_type": "stream",
     "text": [
      "2024-08-09 15:28:20,537 - INFO - Best parameters: {'learning_rate': 0.1, 'max_depth': 3, 'n_estimators': 200}\n",
      "2024-08-09 15:28:20,550 - INFO - Accuracy: 0.8883333333333333\n",
      "2024-08-09 15:28:20,551 - INFO - Classification Report:\n",
      "2024-08-09 15:28:20,559 - INFO -               precision    recall  f1-score   support\n",
      "\n",
      "       anger       0.95      0.88      0.92       118\n",
      "        fear       0.95      0.83      0.89        99\n",
      "         joy       0.77      0.90      0.83        96\n",
      "        love       0.91      0.96      0.93       101\n",
      "     sadness       0.91      0.76      0.83        91\n",
      "    surprise       0.86      1.00      0.93        95\n",
      "\n",
      "    accuracy                           0.89       600\n",
      "   macro avg       0.89      0.89      0.89       600\n",
      "weighted avg       0.89      0.89      0.89       600\n",
      "\n",
      "2024-08-09 15:28:20,610 - INFO - Vectorizer and model saved to ../trained_models/GBC_TF.pkl\n"
     ]
    }
   ],
   "source": [
    "\n",
    "# Load data\n",
    "df = load_data('../sampled_data.csv')\n",
    "\n",
    "# Preprocess data\n",
    "X_train, X_test, y_train, y_test = preprocess_data(df)\n",
    "\n",
    "# Create and train model\n",
    "vectorizer = create_tfidf_vectorizer()\n",
    "model = create_model()\n",
    "vectorizer, trained_model = train_model(vectorizer, model, X_train, y_train)\n",
    "\n",
    "# Evaluate model\n",
    "accuracy, y_pred = evaluate_model(vectorizer, trained_model, X_test, y_test)\n",
    "\n",
    "# Save model\n",
    "save_model(vectorizer, trained_model, '../trained_models/GBC_TF.pkl')\n",
    "\n",
    "# Update accuracy in config\n",
    "update_accuracy_in_config(accuracy, 'tfidf_gradient_boosting')\n"
   ]
  },
  {
   "cell_type": "code",
   "execution_count": 20,
   "metadata": {},
   "outputs": [
    {
     "data": {
      "image/png": "[encoded data removed]",
      "text/plain": [
       "<Figure size 600x600 with 1 Axes>"
      ]
     },
     "metadata": {},
     "output_type": "display_data"
    }
   ],
   "source": [
    "\n",
    "def plot_confusion_matrix(y_predicted, y_true, labels):\n",
    "    \"\"\"\n",
    "    Plot a normalized confusion matrix to visualize classification performance.\n",
    "\n",
    "    Args:\n",
    "        y_predicted (array-like): Array of predicted labels from the model.\n",
    "        y_true (array-like): Array of true labels from the test set.\n",
    "        labels (array-like): List of class labels to index the matrix. This should match the unique class labels in the dataset.\n",
    "    \"\"\"\n",
    "    cm = confusion_matrix(y_true, y_predicted, normalize='true')\n",
    "    fig, ax = plt.subplots(figsize=(6, 6))\n",
    "    disp = ConfusionMatrixDisplay(confusion_matrix=cm, display_labels=labels)\n",
    "    disp.plot(cmap='Blues', values_format='.2f', ax=ax, colorbar=False)\n",
    "    plt.title('Normalized Confusion Matrix')\n",
    "    plt.show()\n",
    "\n",
    "# Example usage\n",
    "labels = df['label'].unique()  # Extract unique labels from the DataFrame\n",
    "plot_confusion_matrix(y_pred, y_test, labels)\n"
   ]
  }
 ],
 "metadata": {
  "kernelspec": {
   "display_name": "Python 3",
   "language": "python",
   "name": "python3"
  },
  "language_info": {
   "codemirror_mode": {
    "name": "ipython",
    "version": 3
   },
   "file_extension": ".py",
   "mimetype": "text/x-python",
   "name": "python",
   "nbconvert_exporter": "python",
   "pygments_lexer": "ipython3",
   "version": "3.11.2"
  },
  "vscode": {
   "interpreter": {
    "hash": "5c7b89af1651d0b8571dde13640ecdccf7d5a6204171d6ab33e7c296e100e08a"
   }
  }
 },
 "nbformat": 4,
 "nbformat_minor": 2
}
